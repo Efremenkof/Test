{
  "nbformat": 4,
  "nbformat_minor": 0,
  "metadata": {
    "colab": {
      "name": "2020.10.22_classes",
      "provenance": [],
      "authorship_tag": "ABX9TyPRwboR7OAvenmkw1ifqGzl",
      "include_colab_link": true
    },
    "kernelspec": {
      "name": "python3",
      "display_name": "Python 3"
    }
  },
  "cells": [
    {
      "cell_type": "markdown",
      "metadata": {
        "id": "view-in-github",
        "colab_type": "text"
      },
      "source": [
        "<a href=\"https://colab.research.google.com/github/Efremenkof/Test/blob/master/2020_10_22_classes.ipynb\" target=\"_parent\"><img src=\"https://colab.research.google.com/assets/colab-badge.svg\" alt=\"Open In Colab\"/></a>"
      ]
    },
    {
      "cell_type": "markdown",
      "metadata": {
        "id": "USxXXmGvwIDS"
      },
      "source": [
        "# 2020.10.22_Classes"
      ]
    },
    {
      "cell_type": "markdown",
      "metadata": {
        "id": "M_dc5-P5wW-B"
      },
      "source": [
        "## Ефременко Федор\n"
      ]
    },
    {
      "cell_type": "markdown",
      "metadata": {
        "id": "QMw15MXcwcC_"
      },
      "source": [
        "## Задание\n",
        "Узнать, есть ли искомое приложение на телефоне. Если есть, то найти номер экрана на котором есть это приложение и его порядковый номер, считя от 0\n",
        "\n",
        "\n"
      ]
    },
    {
      "cell_type": "markdown",
      "metadata": {
        "id": "XUjEaI-fwGNi"
      },
      "source": [
        "## Решение"
      ]
    },
    {
      "cell_type": "code",
      "metadata": {
        "id": "4pzmzjPInMO0"
      },
      "source": [
        "class Телефон:\n",
        "  def __init__(self):\n",
        "    self.screen=0\n",
        "    self.apps = [\n",
        "      [\"Google Calendaar\", \"Yandex Disk\", \"Zotero\", \"Bolt\", \"Zoom\"],\n",
        "      [\"Tinder\", \"Discord\", \"Instagram\", \"Telegram\"],\n",
        "      [\"Google Drive\", \"TikTok\", \"Zotero\"]\n",
        "    ]\n",
        "  def какой_экран(self):\n",
        "    print(f\"ты на экране номер {self.screen}\")\n",
        "\n",
        "  def дай_мне_номер_экрана(self):  \n",
        "    return self.screen\n",
        "\n",
        "  def перейди_на_следующий_экран(self):  \n",
        "    self.screen = self.screen+1%3\n",
        "\n",
        "  def дай_мне_количчество_экранов(self):  \n",
        "    return len(self.apps)\n",
        "\n",
        "  def дай_мне_название_приложения_на_этом_месте(self, position):\n",
        "    if position < len(self.apps[self.screen]):\n",
        "      return self.apps[self.screen][position]\n",
        "\n",
        "  def дай_мне_количество_приложений_на_этом_экране(self, position):\n",
        "    return len(self.apps[self.screen])\n",
        "\n",
        "  def дай_мне_количество_приложений_на_этом_экране(self):\n",
        "    return len(self.apps[self.screen])\n",
        "\n",
        "  def проверь_на_этом_месте_находится_приложение(self, position, app):\n",
        "    if position < len(self.apps[self.screen]):\n",
        "      return self.apps[self.screen][position] == app\n",
        "    return False"
      ],
      "execution_count": null,
      "outputs": []
    },
    {
      "cell_type": "code",
      "metadata": {
        "id": "yNnbufIUwArz",
        "outputId": "3aa64b44-5288-4da2-ffcb-cf22555bc806",
        "colab": {
          "base_uri": "https://localhost:8080/",
          "height": 35
        }
      },
      "source": [
        "Мой_телефон = Телефон()\n",
        "Номер_экрана = Мой_телефон.дай_мне_номер_экрана()\n",
        "Число_проверки=0\n",
        "for Номер_экрана in range(Мой_телефон.дай_мне_количчество_экранов()):\n",
        "   for Номер_приложения in range(Мой_телефон.дай_мне_количество_приложений_на_этом_экране()):\n",
        "      if Мой_телефон.проверь_на_этом_месте_находится_приложение(Номер_приложения, \"Instagram\"):\n",
        "         print(f\"Приложение Instagram находится на {Номер_экрана} экране {Номер_приложения} по счёту (считая от 0)\" )\n",
        "         Число_проверки=1\n",
        "   Мой_телефон.перейди_на_следующий_экран()   \n",
        "if Число_проверки == 0:\n",
        "  print(\"Прилоения Instagram нет на данном телефоне\")"
      ],
      "execution_count": 25,
      "outputs": [
        {
          "output_type": "stream",
          "text": [
            "Приложение Instagram находится на 1 экране 2 по счёту (считая от 0)\n"
          ],
          "name": "stdout"
        }
      ]
    },
    {
      "cell_type": "code",
      "metadata": {
        "id": "YnTYYWF9p5sy"
      },
      "source": [
        ""
      ],
      "execution_count": null,
      "outputs": []
    }
  ]
}