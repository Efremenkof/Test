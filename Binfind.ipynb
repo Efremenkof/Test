{
  "nbformat": 4,
  "nbformat_minor": 0,
  "metadata": {
    "colab": {
      "name": "Untitled0.ipynb",
      "provenance": [],
      "authorship_tag": "ABX9TyPmuGVUjpTP9Lo8PGXddWH5",
      "include_colab_link": true
    },
    "kernelspec": {
      "name": "python3",
      "display_name": "Python 3"
    }
  },
  "cells": [
    {
      "cell_type": "markdown",
      "metadata": {
        "id": "view-in-github",
        "colab_type": "text"
      },
      "source": [
        "<a href=\"https://colab.research.google.com/github/Efremenkof/Test/blob/master/Binfind.ipynb\" target=\"_parent\"><img src=\"https://colab.research.google.com/assets/colab-badge.svg\" alt=\"Open In Colab\"/></a>"
      ]
    },
    {
      "cell_type": "code",
      "metadata": {
        "id": "sBj870jArPCQ",
        "outputId": "41f600f2-c673-492a-e8bd-b7fc4b88026b",
        "colab": {
          "base_uri": "https://localhost:8080/"
        }
      },
      "source": [
        "import random\n",
        "n=1000000\n",
        "data = []\n",
        "for i in range(n):\n",
        "  data.append(random.randint(1, 10))\n",
        "data = sorted(data)\n",
        "#for i in range(n):\n",
        "#  print(data[i])\n",
        "b=5 \n",
        "def Bin(array, a):\n",
        "  l=0\n",
        "  r=n-1\n",
        "  f=0;\n",
        "  while (l<=r):\n",
        "    if (a==data[(r+l)//2]):\n",
        "      return ((r+l)//2)\n",
        "      f=1\n",
        "      break\n",
        "    if (a<data[(r+l)//2]):\n",
        "      r=(r+l)//2-1\n",
        "    if (a>data[(r+l)//2]):\n",
        "      l=(r+l)//2+1\n",
        "  if (f==0):\n",
        "    return(\"В данном массиве нет искомого числа\")  \n",
        "Bin(data, b)    \n",
        "##%timeit Bin(data, b)"
      ],
      "execution_count": 141,
      "outputs": [
        {
          "output_type": "stream",
          "text": [
            "1000000 loops, best of 3: 1.23 µs per loop\n"
          ],
          "name": "stdout"
        }
      ]
    }
  ]
}